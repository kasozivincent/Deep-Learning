{
 "cells": [
  {
   "cell_type": "markdown",
   "source": [
    "## Project imports"
   ],
   "metadata": {
    "collapsed": false,
    "pycharm": {
     "name": "#%% md\n"
    }
   }
  },
  {
   "cell_type": "code",
   "execution_count": 20,
   "outputs": [],
   "source": [
    "from keras.layers import Flatten, Input, Rescaling\n",
    "from keras.layers import Conv2D, MaxPooling2D, Dense\n",
    "from keras.models import Model, load_model\n",
    "from keras.callbacks import ModelCheckpoint, EarlyStopping\n",
    "from keras.utils import image_dataset_from_directory\n",
    "from matplotlib import pyplot as plt\n",
    "import os\n",
    "import shutil"
   ],
   "metadata": {
    "collapsed": false,
    "pycharm": {
     "name": "#%%\n"
    }
   }
  },
  {
   "cell_type": "markdown",
   "source": [
    "## Prepare the dataset"
   ],
   "metadata": {
    "collapsed": false,
    "pycharm": {
     "name": "#%% md\n"
    }
   }
  },
  {
   "cell_type": "code",
   "execution_count": 8,
   "outputs": [],
   "source": [
    "original = 'DataSet'\n",
    "dataset = 'data'\n",
    "def make_subset(subset, start_index, end_index):\n",
    "    for category in ['COVID', 'Lung_Opacity', 'Normal', 'Viral Pneumonia']:\n",
    "        path_name = f'{dataset}/{subset}/{category}'\n",
    "        os.makedirs(path_name)\n",
    "        file_names = [f'{category}-{i}.png' for i in range(start_index, end_index)]\n",
    "        for file_name in file_names:\n",
    "            shutil.copyfile(src=f'{original}/{category}/{file_name}', dst=f'{path_name}/{file_name}')\n",
    "\n",
    "make_subset('train', 1, 1000)\n",
    "make_subset('validation', 1000, 1100)\n",
    "make_subset('test', 1100, 1300)"
   ],
   "metadata": {
    "collapsed": false,
    "pycharm": {
     "name": "#%%\n"
    }
   }
  },
  {
   "cell_type": "markdown",
   "source": [
    "## load the data into data loaders"
   ],
   "metadata": {
    "collapsed": false,
    "pycharm": {
     "name": "#%% md\n"
    }
   }
  },
  {
   "cell_type": "code",
   "execution_count": 10,
   "outputs": [
    {
     "name": "stdout",
     "output_type": "stream",
     "text": [
      "Found 3996 files belonging to 4 classes.\n",
      "Found 400 files belonging to 4 classes.\n",
      "Found 800 files belonging to 4 classes.\n"
     ]
    }
   ],
   "source": [
    "train_data = image_dataset_from_directory(\n",
    "    directory='data/train/',\n",
    "    batch_size=32,\n",
    "    image_size=(180, 180)\n",
    ")\n",
    "\n",
    "val_data = image_dataset_from_directory(\n",
    "    directory='data/validation/',\n",
    "    batch_size=32,\n",
    "    image_size=(180, 180)\n",
    ")\n",
    "\n",
    "test_data = image_dataset_from_directory(\n",
    "    directory='data/test/',\n",
    "    batch_size=32,\n",
    "    image_size=(180, 180)\n",
    ")"
   ],
   "metadata": {
    "collapsed": false,
    "pycharm": {
     "name": "#%%\n"
    }
   }
  },
  {
   "cell_type": "markdown",
   "source": [
    "## define the model"
   ],
   "metadata": {
    "collapsed": false,
    "pycharm": {
     "name": "#%% md\n"
    }
   }
  },
  {
   "cell_type": "code",
   "execution_count": 17,
   "outputs": [
    {
     "name": "stdout",
     "output_type": "stream",
     "text": [
      "Model: \"model_4\"\n",
      "_________________________________________________________________\n",
      " Layer (type)                Output Shape              Param #   \n",
      "=================================================================\n",
      " input_6 (InputLayer)        [(None, 180, 180, 3)]     0         \n",
      "                                                                 \n",
      " rescaling_5 (Rescaling)     (None, 180, 180, 3)       0         \n",
      "                                                                 \n",
      " conv2d_16 (Conv2D)          (None, 178, 178, 32)      896       \n",
      "                                                                 \n",
      " max_pooling2d_16 (MaxPoolin  (None, 89, 89, 32)       0         \n",
      " g2D)                                                            \n",
      "                                                                 \n",
      " conv2d_17 (Conv2D)          (None, 87, 87, 64)        18496     \n",
      "                                                                 \n",
      " max_pooling2d_17 (MaxPoolin  (None, 43, 43, 64)       0         \n",
      " g2D)                                                            \n",
      "                                                                 \n",
      " conv2d_18 (Conv2D)          (None, 41, 41, 128)       73856     \n",
      "                                                                 \n",
      " max_pooling2d_18 (MaxPoolin  (None, 20, 20, 128)      0         \n",
      " g2D)                                                            \n",
      "                                                                 \n",
      " conv2d_19 (Conv2D)          (None, 18, 18, 256)       295168    \n",
      "                                                                 \n",
      " max_pooling2d_19 (MaxPoolin  (None, 9, 9, 256)        0         \n",
      " g2D)                                                            \n",
      "                                                                 \n",
      " flatten_3 (Flatten)         (None, 20736)             0         \n",
      "                                                                 \n",
      " dense_4 (Dense)             (None, 10)                207370    \n",
      "                                                                 \n",
      " dense_5 (Dense)             (None, 4)                 44        \n",
      "                                                                 \n",
      "=================================================================\n",
      "Total params: 595,830\n",
      "Trainable params: 595,830\n",
      "Non-trainable params: 0\n",
      "_________________________________________________________________\n"
     ]
    }
   ],
   "source": [
    "inputs = Input(shape=(180, 180, 3))\n",
    "x = Rescaling(scale=1/255)(inputs)\n",
    "x = Conv2D(filters=32, kernel_size=3, activation='relu', kernel_initializer='he_uniform')(x)\n",
    "x = MaxPooling2D(pool_size=2)(x)\n",
    "x = Conv2D(filters=64, kernel_size=3, activation='relu', kernel_initializer='he_uniform')(x)\n",
    "x = MaxPooling2D(pool_size=2)(x)\n",
    "x = Conv2D(filters=128, kernel_size=3, activation='relu', kernel_initializer='he_uniform')(x)\n",
    "x = MaxPooling2D(pool_size=2)(x)\n",
    "x = Conv2D(filters=256, kernel_size=3, activation='relu', kernel_initializer='he_uniform')(x)\n",
    "x = MaxPooling2D(pool_size=2)(x)\n",
    "\n",
    "x = Flatten()(x)\n",
    "x = Dense(units=10, activation='relu')(x)\n",
    "outputs = Dense(4, activation='softmax')(x)\n",
    "model = Model(inputs=inputs, outputs=outputs)\n",
    "\n",
    "model.compile(optimizer='rmsprop', loss='sparse_categorical_crossentropy', metrics=['accuracy'])\n",
    "\n",
    "model.summary()"
   ],
   "metadata": {
    "collapsed": false,
    "pycharm": {
     "name": "#%%\n"
    }
   }
  },
  {
   "cell_type": "markdown",
   "source": [
    "## train the model"
   ],
   "metadata": {
    "collapsed": false,
    "pycharm": {
     "name": "#%% md\n"
    }
   }
  },
  {
   "cell_type": "code",
   "execution_count": 18,
   "outputs": [
    {
     "name": "stdout",
     "output_type": "stream",
     "text": [
      "Epoch 1/5\n",
      "125/125 [==============================] - 253s 2s/step - loss: 1.2820 - accuracy: 0.5120 - val_loss: 0.8570 - val_accuracy: 0.5725\n",
      "Epoch 2/5\n",
      "125/125 [==============================] - 203s 2s/step - loss: 0.8286 - accuracy: 0.6471 - val_loss: 0.7415 - val_accuracy: 0.6175\n",
      "Epoch 3/5\n",
      "125/125 [==============================] - 197s 2s/step - loss: 0.6398 - accuracy: 0.7120 - val_loss: 0.7048 - val_accuracy: 0.7175\n",
      "Epoch 4/5\n",
      "125/125 [==============================] - 209s 2s/step - loss: 0.5640 - accuracy: 0.7880 - val_loss: 0.5921 - val_accuracy: 0.7275\n",
      "Epoch 5/5\n",
      "125/125 [==============================] - 222s 2s/step - loss: 0.4875 - accuracy: 0.8373 - val_loss: 0.6989 - val_accuracy: 0.7750\n"
     ]
    }
   ],
   "source": [
    "callbacks = [\n",
    "    ModelCheckpoint(\n",
    "        filepath='medical_model.keras',\n",
    "        save_best_only=True,\n",
    "    ),\n",
    "\n",
    "    EarlyStopping(\n",
    "        patience=3\n",
    "    )\n",
    "]\n",
    "\n",
    "history = model.fit(train_data, epochs=5, validation_data=val_data, callbacks=callbacks)"
   ],
   "metadata": {
    "collapsed": false,
    "pycharm": {
     "name": "#%%\n"
    }
   }
  },
  {
   "cell_type": "markdown",
   "source": [
    "## plot model metrics"
   ],
   "metadata": {
    "collapsed": false,
    "pycharm": {
     "name": "#%% md\n"
    }
   }
  },
  {
   "cell_type": "markdown",
   "source": [
    "### loss"
   ],
   "metadata": {
    "collapsed": false,
    "pycharm": {
     "name": "#%% md\n"
    }
   }
  },
  {
   "cell_type": "code",
   "execution_count": 22,
   "outputs": [
    {
     "data": {
      "text/plain": "<matplotlib.legend.Legend at 0x1ae4a01f250>"
     },
     "execution_count": 22,
     "metadata": {},
     "output_type": "execute_result"
    },
    {
     "data": {
      "text/plain": "<Figure size 432x288 with 1 Axes>",
      "image/png": "[encoded data removed]"
     },
     "metadata": {
      "needs_background": "light"
     },
     "output_type": "display_data"
    }
   ],
   "source": [
    "plt.figure()\n",
    "plt.plot(history.history['loss'], label='training_loss')\n",
    "plt.plot(history.history['val_loss'], label='val_loss')\n",
    "plt.legend()"
   ],
   "metadata": {
    "collapsed": false,
    "pycharm": {
     "name": "#%%\n"
    }
   }
  },
  {
   "cell_type": "markdown",
   "source": [
    "### accuracy"
   ],
   "metadata": {
    "collapsed": false,
    "pycharm": {
     "name": "#%% md\n"
    }
   }
  },
  {
   "cell_type": "code",
   "execution_count": 25,
   "outputs": [
    {
     "data": {
      "text/plain": "<matplotlib.legend.Legend at 0x1ae556471f0>"
     },
     "execution_count": 25,
     "metadata": {},
     "output_type": "execute_result"
    },
    {
     "data": {
      "text/plain": "<Figure size 432x288 with 1 Axes>",
      "image/png": "[encoded data removed]"
     },
     "metadata": {
      "needs_background": "light"
     },
     "output_type": "display_data"
    }
   ],
   "source": [
    "plt.figure()\n",
    "plt.plot(history.history['accuracy'], label='training_loss')\n",
    "plt.plot(history.history['val_accuracy'], label='val_loss')\n",
    "plt.legend()"
   ],
   "metadata": {
    "collapsed": false,
    "pycharm": {
     "name": "#%%\n"
    }
   }
  },
  {
   "cell_type": "code",
   "execution_count": 26,
   "outputs": [],
   "source": [
    "## Evaluate the model"
   ],
   "metadata": {
    "collapsed": false,
    "pycharm": {
     "name": "#%%\n"
    }
   }
  },
  {
   "cell_type": "code",
   "execution_count": 27,
   "outputs": [
    {
     "name": "stdout",
     "output_type": "stream",
     "text": [
      "25/25 [==============================] - 13s 462ms/step - loss: 0.4967 - accuracy: 0.8075\n"
     ]
    }
   ],
   "source": [
    "test_loss, test_acc = load_model('medical_model.keras').evaluate(test_data)"
   ],
   "metadata": {
    "collapsed": false,
    "pycharm": {
     "name": "#%%\n"
    }
   }
  },
  {
   "cell_type": "code",
   "execution_count": null,
   "outputs": [],
   "source": [],
   "metadata": {
    "collapsed": false,
    "pycharm": {
     "name": "#%%\n"
    }
   }
  }
 ],
 "metadata": {
  "kernelspec": {
   "display_name": "Python 3",
   "language": "python",
   "name": "python3"
  },
  "language_info": {
   "codemirror_mode": {
    "name": "ipython",
    "version": 2
   },
   "file_extension": ".py",
   "mimetype": "text/x-python",
   "name": "python",
   "nbconvert_exporter": "python",
   "pygments_lexer": "ipython2",
   "version": "2.7.6"
  }
 },
 "nbformat": 4,
 "nbformat_minor": 0
}