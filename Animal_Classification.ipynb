{
 "cells": [
  {
   "cell_type": "markdown",
   "source": [
    "## project imports"
   ],
   "metadata": {
    "collapsed": false,
    "pycharm": {
     "name": "#%% md\n"
    }
   }
  },
  {
   "cell_type": "code",
   "execution_count": 11,
   "outputs": [
    {
     "name": "stdout",
     "output_type": "stream",
     "text": [
      "WARNING:tensorflow:Please fix your imports. Module tensorflow.python.training.saving.functional_saver has been moved to tensorflow.python.checkpoint.functional_saver. The old module will be deleted in version 2.11.\n",
      "WARNING:tensorflow:Please fix your imports. Module tensorflow.python.training.saving.checkpoint_options has been moved to tensorflow.python.checkpoint.checkpoint_options. The old module will be deleted in version 2.11.\n"
     ]
    }
   ],
   "source": [
    "from keras.datasets import mnist\n",
    "from keras.models import Model, load_model\n",
    "from keras.utils import image_dataset_from_directory\n",
    "from keras.callbacks import ModelCheckpoint, EarlyStopping\n",
    "from keras.layers import Conv2D, MaxPooling2D, Dense\n",
    "from keras.layers import Input, Flatten, Rescaling"
   ],
   "metadata": {
    "collapsed": false,
    "pycharm": {
     "name": "#%%\n"
    }
   }
  },
  {
   "cell_type": "markdown",
   "source": [
    "## load the dataset"
   ],
   "metadata": {
    "collapsed": false,
    "pycharm": {
     "name": "#%% md\n"
    }
   }
  },
  {
   "cell_type": "code",
   "execution_count": 19,
   "outputs": [],
   "source": [
    "(train_images, train_labels), (test_images, test_labels) = mnist.load_data()"
   ],
   "metadata": {
    "collapsed": false,
    "pycharm": {
     "name": "#%%\n"
    }
   }
  },
  {
   "cell_type": "code",
   "execution_count": 20,
   "outputs": [
    {
     "data": {
      "text/plain": "(28, 28)"
     },
     "execution_count": 20,
     "metadata": {},
     "output_type": "execute_result"
    }
   ],
   "source": [
    "train_images[0].shape"
   ],
   "metadata": {
    "collapsed": false,
    "pycharm": {
     "name": "#%%\n"
    }
   }
  },
  {
   "cell_type": "markdown",
   "source": [
    "## define the model"
   ],
   "metadata": {
    "collapsed": false,
    "pycharm": {
     "name": "#%% md\n"
    }
   }
  },
  {
   "cell_type": "code",
   "execution_count": 21,
   "outputs": [
    {
     "name": "stdout",
     "output_type": "stream",
     "text": [
      "Model: \"model_6\"\n",
      "_________________________________________________________________\n",
      " Layer (type)                Output Shape              Param #   \n",
      "=================================================================\n",
      " input_8 (InputLayer)        [(None, 28, 28, 1)]       0         \n",
      "                                                                 \n",
      " rescaling_7 (Rescaling)     (None, 28, 28, 1)         0         \n",
      "                                                                 \n",
      " conv2d_15 (Conv2D)          (None, 26, 26, 32)        320       \n",
      "                                                                 \n",
      " max_pooling2d_14 (MaxPoolin  (None, 13, 13, 32)       0         \n",
      " g2D)                                                            \n",
      "                                                                 \n",
      " conv2d_16 (Conv2D)          (None, 11, 11, 64)        18496     \n",
      "                                                                 \n",
      " max_pooling2d_15 (MaxPoolin  (None, 5, 5, 64)         0         \n",
      " g2D)                                                            \n",
      "                                                                 \n",
      " flatten_3 (Flatten)         (None, 1600)              0         \n",
      "                                                                 \n",
      " dense_2 (Dense)             (None, 10)                16010     \n",
      "                                                                 \n",
      "=================================================================\n",
      "Total params: 34,826\n",
      "Trainable params: 34,826\n",
      "Non-trainable params: 0\n",
      "_________________________________________________________________\n"
     ]
    }
   ],
   "source": [
    "inputs = Input(shape=(28,28,1))\n",
    "x = Rescaling(scale=1/255)(inputs)\n",
    "x = Conv2D(filters= 32, kernel_size=3, activation= 'relu')(x)\n",
    "x = MaxPooling2D(pool_size=2)(x)\n",
    "x = Conv2D(filters= 64, kernel_size=3, activation= 'relu')(x)\n",
    "x = MaxPooling2D(pool_size=2)(x)\n",
    "#-------------------------------------\n",
    "x = Flatten()(x)\n",
    "outputs = Dense(units=10, activation='softmax')(x)\n",
    "model = Model(inputs=inputs, outputs=outputs)\n",
    "\n",
    "model.compile(optimizer='rmsprop', loss = 'sparse_categorical_crossentropy', metrics=['accuracy'])\n",
    "\n",
    "model.summary()"
   ],
   "metadata": {
    "collapsed": false,
    "pycharm": {
     "name": "#%%\n"
    }
   }
  },
  {
   "cell_type": "code",
   "execution_count": 22,
   "outputs": [
    {
     "name": "stdout",
     "output_type": "stream",
     "text": [
      "Epoch 1/10\n",
      "1875/1875 [==============================] - 42s 22ms/step - loss: 0.1534 - accuracy: 0.9544 - val_loss: 0.0571 - val_accuracy: 0.9819\n",
      "Epoch 2/10\n",
      "1875/1875 [==============================] - 40s 22ms/step - loss: 0.0562 - accuracy: 0.9827 - val_loss: 0.0403 - val_accuracy: 0.9866\n",
      "Epoch 3/10\n",
      "1875/1875 [==============================] - 42s 22ms/step - loss: 0.0428 - accuracy: 0.9873 - val_loss: 0.0372 - val_accuracy: 0.9879\n",
      "Epoch 4/10\n",
      "1875/1875 [==============================] - 48s 25ms/step - loss: 0.0350 - accuracy: 0.9900 - val_loss: 0.0324 - val_accuracy: 0.9897\n",
      "Epoch 5/10\n",
      "1875/1875 [==============================] - 41s 22ms/step - loss: 0.0312 - accuracy: 0.9908 - val_loss: 0.0356 - val_accuracy: 0.9894\n",
      "Epoch 6/10\n",
      "1875/1875 [==============================] - 46s 25ms/step - loss: 0.0269 - accuracy: 0.9921 - val_loss: 0.0293 - val_accuracy: 0.9907\n",
      "Epoch 7/10\n",
      "1875/1875 [==============================] - 38s 20ms/step - loss: 0.0244 - accuracy: 0.9927 - val_loss: 0.0289 - val_accuracy: 0.9914\n",
      "Epoch 8/10\n",
      "1875/1875 [==============================] - 38s 21ms/step - loss: 0.0219 - accuracy: 0.9936 - val_loss: 0.0322 - val_accuracy: 0.9908\n",
      "Epoch 9/10\n",
      "1875/1875 [==============================] - 38s 20ms/step - loss: 0.0208 - accuracy: 0.9938 - val_loss: 0.0354 - val_accuracy: 0.9895\n"
     ]
    }
   ],
   "source": [
    "callbacks = [\n",
    "    ModelCheckpoint(\n",
    "        filepath='best_model.keras',\n",
    "        save_best_only=True,\n",
    "    ),\n",
    "    EarlyStopping(\n",
    "        patience=2\n",
    "    )\n",
    "]\n",
    "\n",
    "history = model.fit(x = train_images, y = train_labels, epochs=10, callbacks=callbacks, validation_data=(test_images, test_labels))"
   ],
   "metadata": {
    "collapsed": false,
    "pycharm": {
     "name": "#%%\n"
    }
   }
  },
  {
   "cell_type": "code",
   "execution_count": 24,
   "outputs": [
    {
     "name": "stdout",
     "output_type": "stream",
     "text": [
      "313/313 [==============================] - 3s 8ms/step - loss: 0.0354 - accuracy: 0.9895\n"
     ]
    }
   ],
   "source": [
    "test_loss, test_acc = model.evaluate(test_images, test_labels)"
   ],
   "metadata": {
    "collapsed": false,
    "pycharm": {
     "name": "#%%\n"
    }
   }
  },
  {
   "cell_type": "code",
   "execution_count": 27,
   "outputs": [
    {
     "name": "stdout",
     "output_type": "stream",
     "text": [
      "313/313 [==============================] - 2s 6ms/step - loss: 0.0289 - accuracy: 0.9914\n"
     ]
    }
   ],
   "source": [
    "m = load_model('best_model.keras')\n",
    "test_loss, test_acc = m.evaluate(test_images, test_labels)"
   ],
   "metadata": {
    "collapsed": false,
    "pycharm": {
     "name": "#%%\n"
    }
   }
  },
  {
   "cell_type": "code",
   "execution_count": null,
   "outputs": [],
   "source": [],
   "metadata": {
    "collapsed": false,
    "pycharm": {
     "name": "#%%\n"
    }
   }
  },
  {
   "cell_type": "code",
   "execution_count": null,
   "outputs": [],
   "source": [],
   "metadata": {
    "collapsed": false,
    "pycharm": {
     "name": "#%%\n"
    }
   }
  },
  {
   "cell_type": "code",
   "execution_count": 3,
   "outputs": [],
   "source": [
    "import os, shutil\n",
    "\n",
    "original_path = 'train/train'\n",
    "new_path = 'smaller_dataset'\n",
    "def make_subset(subset_name, start_index, end_index):\n",
    "    for category in ['cat', 'dog']:\n",
    "        folder = f'{new_path}/{subset_name}/{category}'\n",
    "        os.makedirs(folder)\n",
    "        filenames = [f'{category}.{i}.jpg' for i in range(start_index, end_index)]\n",
    "        for filename in filenames:\n",
    "            shutil.copyfile(src=f'{original_path}/{filename}', dst=f'{folder}/{filename}')\n",
    "\n",
    "make_subset(\"train\", start_index=0, end_index=1000)\n",
    "make_subset(\"validation\", start_index=1000, end_index=1500)\n",
    "make_subset(\"test\", start_index=1500, end_index=2500)"
   ],
   "metadata": {
    "collapsed": false,
    "pycharm": {
     "name": "#%%\n"
    }
   }
  },
  {
   "cell_type": "code",
   "execution_count": 12,
   "outputs": [
    {
     "name": "stdout",
     "output_type": "stream",
     "text": [
      "Found 2000 files belonging to 2 classes.\n",
      "Found 1000 files belonging to 2 classes.\n",
      "Found 2000 files belonging to 2 classes.\n"
     ]
    }
   ],
   "source": [
    "train_dataset = image_dataset_from_directory(\n",
    "    directory='smaller_dataset/train/',\n",
    "    image_size=(180, 180),\n",
    "    batch_size=32\n",
    ")\n",
    "\n",
    "val_dataset = image_dataset_from_directory(\n",
    "    directory='smaller_dataset/validation/',\n",
    "    image_size=(180, 180),\n",
    "    batch_size=32\n",
    ")\n",
    "\n",
    "test_dataset = image_dataset_from_directory(\n",
    "    directory='smaller_dataset/test/',\n",
    "    image_size=(180, 180),\n",
    "    batch_size=32\n",
    ")"
   ],
   "metadata": {
    "collapsed": false,
    "pycharm": {
     "name": "#%%\n"
    }
   }
  },
  {
   "cell_type": "code",
   "execution_count": 18,
   "outputs": [
    {
     "name": "stdout",
     "output_type": "stream",
     "text": [
      "(32, 180, 180, 3) (32,)\n",
      "(32, 180, 180, 3) (32,)\n",
      "(32, 180, 180, 3) (32,)\n",
      "(32, 180, 180, 3) (32,)\n",
      "(32, 180, 180, 3) (32,)\n",
      "(32, 180, 180, 3) (32,)\n",
      "(32, 180, 180, 3) (32,)\n",
      "(32, 180, 180, 3) (32,)\n",
      "(32, 180, 180, 3) (32,)\n",
      "(32, 180, 180, 3) (32,)\n",
      "(32, 180, 180, 3) (32,)\n",
      "(32, 180, 180, 3) (32,)\n",
      "(32, 180, 180, 3) (32,)\n",
      "(32, 180, 180, 3) (32,)\n",
      "(32, 180, 180, 3) (32,)\n",
      "(32, 180, 180, 3) (32,)\n",
      "(32, 180, 180, 3) (32,)\n",
      "(32, 180, 180, 3) (32,)\n",
      "(32, 180, 180, 3) (32,)\n",
      "(32, 180, 180, 3) (32,)\n",
      "(32, 180, 180, 3) (32,)\n",
      "(32, 180, 180, 3) (32,)\n",
      "(32, 180, 180, 3) (32,)\n",
      "(32, 180, 180, 3) (32,)\n",
      "(32, 180, 180, 3) (32,)\n",
      "(32, 180, 180, 3) (32,)\n",
      "(32, 180, 180, 3) (32,)\n",
      "(32, 180, 180, 3) (32,)\n",
      "(32, 180, 180, 3) (32,)\n",
      "(32, 180, 180, 3) (32,)\n",
      "(32, 180, 180, 3) (32,)\n",
      "(32, 180, 180, 3) (32,)\n",
      "(32, 180, 180, 3) (32,)\n",
      "(32, 180, 180, 3) (32,)\n",
      "(32, 180, 180, 3) (32,)\n",
      "(32, 180, 180, 3) (32,)\n",
      "(32, 180, 180, 3) (32,)\n",
      "(32, 180, 180, 3) (32,)\n",
      "(32, 180, 180, 3) (32,)\n",
      "(32, 180, 180, 3) (32,)\n",
      "(32, 180, 180, 3) (32,)\n",
      "(32, 180, 180, 3) (32,)\n",
      "(32, 180, 180, 3) (32,)\n",
      "(32, 180, 180, 3) (32,)\n",
      "(32, 180, 180, 3) (32,)\n",
      "(32, 180, 180, 3) (32,)\n",
      "(32, 180, 180, 3) (32,)\n",
      "(32, 180, 180, 3) (32,)\n",
      "(32, 180, 180, 3) (32,)\n",
      "(32, 180, 180, 3) (32,)\n",
      "(32, 180, 180, 3) (32,)\n",
      "(32, 180, 180, 3) (32,)\n",
      "(32, 180, 180, 3) (32,)\n",
      "(32, 180, 180, 3) (32,)\n",
      "(32, 180, 180, 3) (32,)\n",
      "(32, 180, 180, 3) (32,)\n",
      "(32, 180, 180, 3) (32,)\n",
      "(32, 180, 180, 3) (32,)\n",
      "(32, 180, 180, 3) (32,)\n",
      "(32, 180, 180, 3) (32,)\n",
      "(32, 180, 180, 3) (32,)\n",
      "(32, 180, 180, 3) (32,)\n",
      "(16, 180, 180, 3) (16,)\n"
     ]
    }
   ],
   "source": [
    "for data, labels in train_dataset:\n",
    "    print(data.shape, labels.shape)"
   ],
   "metadata": {
    "collapsed": false,
    "pycharm": {
     "name": "#%%\n"
    }
   }
  },
  {
   "cell_type": "code",
   "execution_count": 16,
   "outputs": [
    {
     "name": "stdout",
     "output_type": "stream",
     "text": [
      "Model: \"model_2\"\n",
      "_________________________________________________________________\n",
      " Layer (type)                Output Shape              Param #   \n",
      "=================================================================\n",
      " input_3 (InputLayer)        [(None, 180, 180, 3)]     0         \n",
      "                                                                 \n",
      " rescaling_2 (Rescaling)     (None, 180, 180, 3)       0         \n",
      "                                                                 \n",
      " conv2d_4 (Conv2D)           (None, 178, 178, 32)      896       \n",
      "                                                                 \n",
      " max_pooling2d_4 (MaxPooling  (None, 89, 89, 32)       0         \n",
      " 2D)                                                             \n",
      "                                                                 \n",
      " conv2d_5 (Conv2D)           (None, 87, 87, 64)        18496     \n",
      "                                                                 \n",
      " max_pooling2d_5 (MaxPooling  (None, 43, 43, 64)       0         \n",
      " 2D)                                                             \n",
      "                                                                 \n",
      " flatten_2 (Flatten)         (None, 118336)            0         \n",
      "                                                                 \n",
      " dense_2 (Dense)             (None, 10)                1183370   \n",
      "                                                                 \n",
      " dense_3 (Dense)             (None, 1)                 11        \n",
      "                                                                 \n",
      "=================================================================\n",
      "Total params: 1,202,773\n",
      "Trainable params: 1,202,773\n",
      "Non-trainable params: 0\n",
      "_________________________________________________________________\n"
     ]
    }
   ],
   "source": [
    "inputs = Input(shape=(180,180,3))\n",
    "x = Rescaling(scale=1/255)(inputs)\n",
    "x = Conv2D(filters= 32, kernel_size=3, activation= 'relu')(x)\n",
    "x = MaxPooling2D(pool_size=2)(x)\n",
    "x = Conv2D(filters= 64, kernel_size=3, activation= 'relu')(x)\n",
    "x = MaxPooling2D(pool_size=2)(x)\n",
    "#-------------------------------------\n",
    "x = Flatten()(x)\n",
    "x = Dense(units=10, activation='relu')(x)\n",
    "outputs = Dense(units=1, activation='sigmoid')(x)\n",
    "model = Model(inputs=inputs, outputs=outputs)\n",
    "\n",
    "model.compile(optimizer='rmsprop', loss = 'binary_crossentropy', metrics=['accuracy'])\n",
    "\n",
    "model.summary()"
   ],
   "metadata": {
    "collapsed": false,
    "pycharm": {
     "name": "#%%\n"
    }
   }
  },
  {
   "cell_type": "code",
   "execution_count": 19,
   "outputs": [
    {
     "name": "stdout",
     "output_type": "stream",
     "text": [
      "Epoch 1/10\n",
      "63/63 [==============================] - 77s 1s/step - loss: 0.9331 - accuracy: 0.4955 - val_loss: 0.6931 - val_accuracy: 0.5000\n",
      "Epoch 2/10\n",
      "63/63 [==============================] - 75s 1s/step - loss: 0.7080 - accuracy: 0.5045 - val_loss: 0.6923 - val_accuracy: 0.5000\n",
      "Epoch 3/10\n",
      "63/63 [==============================] - 72s 1s/step - loss: 0.6960 - accuracy: 0.4945 - val_loss: 0.6931 - val_accuracy: 0.5000\n",
      "Epoch 4/10\n",
      "63/63 [==============================] - 70s 1s/step - loss: 0.6958 - accuracy: 0.4820 - val_loss: 0.6931 - val_accuracy: 0.5000\n"
     ]
    }
   ],
   "source": [
    "callbacks = [\n",
    "    ModelCheckpoint(\n",
    "        filepath='best_model.keras',\n",
    "        save_best_only=True,\n",
    "    ),\n",
    "    EarlyStopping(\n",
    "        patience=2\n",
    "    )\n",
    "]\n",
    "\n",
    "history = model.fit(train_dataset, epochs=10, callbacks=callbacks, validation_data=val_dataset)"
   ],
   "metadata": {
    "collapsed": false,
    "pycharm": {
     "name": "#%%\n"
    }
   }
  },
  {
   "cell_type": "code",
   "execution_count": 4,
   "outputs": [
    {
     "data": {
      "text/plain": "<map at 0x1c811c33160>"
     },
     "execution_count": 4,
     "metadata": {},
     "output_type": "execute_result"
    }
   ],
   "source": [
    "names = ['kasoi', 'fdfdfdf', 'fdfsdsf']\n",
    "s = map(len, names)\n",
    "s"
   ],
   "metadata": {
    "collapsed": false,
    "pycharm": {
     "name": "#%%\n"
    }
   }
  },
  {
   "cell_type": "code",
   "execution_count": 5,
   "outputs": [
    {
     "data": {
      "text/plain": "5"
     },
     "execution_count": 5,
     "metadata": {},
     "output_type": "execute_result"
    }
   ],
   "source": [
    "next(s)"
   ],
   "metadata": {
    "collapsed": false,
    "pycharm": {
     "name": "#%%\n"
    }
   }
  },
  {
   "cell_type": "code",
   "execution_count": 6,
   "outputs": [
    {
     "data": {
      "text/plain": "7"
     },
     "execution_count": 6,
     "metadata": {},
     "output_type": "execute_result"
    }
   ],
   "source": [
    "next(s)"
   ],
   "metadata": {
    "collapsed": false,
    "pycharm": {
     "name": "#%%\n"
    }
   }
  },
  {
   "cell_type": "code",
   "execution_count": 7,
   "outputs": [
    {
     "data": {
      "text/plain": "7"
     },
     "execution_count": 7,
     "metadata": {},
     "output_type": "execute_result"
    }
   ],
   "source": [
    "next(s)"
   ],
   "metadata": {
    "collapsed": false,
    "pycharm": {
     "name": "#%%\n"
    }
   }
  },
  {
   "cell_type": "code",
   "execution_count": 8,
   "outputs": [
    {
     "ename": "StopIteration",
     "evalue": "",
     "output_type": "error",
     "traceback": [
      "\u001B[1;31m---------------------------------------------------------------------------\u001B[0m",
      "\u001B[1;31mStopIteration\u001B[0m                             Traceback (most recent call last)",
      "Input \u001B[1;32mIn [8]\u001B[0m, in \u001B[0;36m<cell line: 1>\u001B[1;34m()\u001B[0m\n\u001B[1;32m----> 1\u001B[0m \u001B[38;5;28;43mnext\u001B[39;49m\u001B[43m(\u001B[49m\u001B[43ms\u001B[49m\u001B[43m)\u001B[49m\n",
      "\u001B[1;31mStopIteration\u001B[0m: "
     ]
    }
   ],
   "source": [
    "next(s)"
   ],
   "metadata": {
    "collapsed": false,
    "pycharm": {
     "name": "#%%\n"
    }
   }
  },
  {
   "cell_type": "code",
   "execution_count": null,
   "outputs": [],
   "source": [],
   "metadata": {
    "collapsed": false,
    "pycharm": {
     "name": "#%%\n"
    }
   }
  }
 ],
 "metadata": {
  "kernelspec": {
   "display_name": "Python 3",
   "language": "python",
   "name": "python3"
  },
  "language_info": {
   "codemirror_mode": {
    "name": "ipython",
    "version": 2
   },
   "file_extension": ".py",
   "mimetype": "text/x-python",
   "name": "python",
   "nbconvert_exporter": "python",
   "pygments_lexer": "ipython2",
   "version": "2.7.6"
  }
 },
 "nbformat": 4,
 "nbformat_minor": 0
}